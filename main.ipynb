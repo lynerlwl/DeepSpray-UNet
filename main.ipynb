{
  "cells": [
    {
      "cell_type": "code",
      "execution_count": null,
      "metadata": {
        "colab": {
          "base_uri": "https://localhost:8080/",
          "height": 35
        },
        "id": "xiD0KHDfP0em",
        "outputId": "a9d17d2d-9c9b-4de0-9e6c-dbd9ca9999ca"
      },
      "outputs": [],
      "source": [
        "# check if the notebook is running on GPU\n",
        "\n",
        "import tensorflow as tf\n",
        "tf.test.gpu_device_name()"
      ]
    },
    {
      "cell_type": "code",
      "execution_count": null,
      "metadata": {
        "id": "-tWzLMJ0l5Ik"
      },
      "outputs": [],
      "source": [
        "# mount the drive\n",
        "\n",
        "from google.colab import drive\n",
        "drive.mount('/content/drive')"
      ]
    },
    {
      "cell_type": "code",
      "execution_count": null,
      "metadata": {
        "colab": {
          "base_uri": "https://localhost:8080/"
        },
        "id": "yEW1cgL5PlDk",
        "outputId": "a4eda977-ee75-4301-a5b5-b7235de8a8a0"
      },
      "outputs": [],
      "source": [
        "# change directory to working folder\n",
        "\n",
        "%cd drive/MyDrive/Pytorch-UNet/"
      ]
    },
    {
      "cell_type": "code",
      "execution_count": null,
      "metadata": {
        "id": "AaGgDSjv0wrY"
      },
      "outputs": [],
      "source": [
        "!pip install wandb"
      ]
    },
    {
      "cell_type": "code",
      "execution_count": null,
      "metadata": {
        "id": "HfrAk1EWahee"
      },
      "outputs": [],
      "source": [
        "# optional\n",
        "\n",
        "!wandb login "
      ]
    },
    {
      "cell_type": "code",
      "execution_count": null,
      "metadata": {
        "id": "84SQjBTblzDG"
      },
      "outputs": [],
      "source": [
        "# download weight\n",
        "\n",
        "# default\n",
        "!wget https://drive.google.com/file/d/1UF9rJbvyg_ClmstrehqCaJ8a3e4mz879/view?usp=sharing\n",
        "\n",
        "# latest\n",
        "!wget https://drive.google.com/file/d/1O1Wrvex2v8rK4us8k9OiWB72b-yuC71Q/view?usp=sharing"
      ]
    },
    {
      "cell_type": "code",
      "execution_count": null,
      "metadata": {
        "id": "wyhYf9t1mF4N"
      },
      "outputs": [],
      "source": [
        "# train\n",
        "\n",
        "!python train.py --epochs 200 --batch-size 2 --learning-rate 1e-5 --load checkpoint/run1-2022-07-06/saved/run10=5.83e-7.pth --scale 1"
      ]
    },
    {
      "cell_type": "code",
      "execution_count": null,
      "metadata": {
        "id": "elfabsTMnuTQ"
      },
      "outputs": [],
      "source": [
        "# predict\n",
        "\n",
        "!python predict.py --model checkpoint/saved/run10=5.83e-7.pth --scale 1 --input 1_Data/test/*.png\n"
      ]
    }
  ],
  "metadata": {
    "accelerator": "GPU",
    "colab": {
      "collapsed_sections": [
        "dGanoTsepRxb",
        "bdughrJmGj7S",
        "a7b72e73-8d6b-4f95-a2ea-74fc0dbedbda"
      ],
      "provenance": []
    },
    "kernelspec": {
      "display_name": "Python 3",
      "name": "python3"
    },
    "language_info": {
      "name": "python"
    }
  },
  "nbformat": 4,
  "nbformat_minor": 0
}
